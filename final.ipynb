{
  "nbformat": 4,
  "nbformat_minor": 0,
  "metadata": {
    "colab": {
      "provenance": []
    },
    "kernelspec": {
      "name": "python3",
      "display_name": "Python 3"
    },
    "language_info": {
      "name": "python"
    }
  },
  "cells": [
    {
      "cell_type": "code",
      "execution_count": 3,
      "metadata": {
        "colab": {
          "base_uri": "https://localhost:8080/"
        },
        "id": "utFH5RSPyYUv",
        "outputId": "ec0f9cc8-7841-4982-b387-d72df8e67bce"
      },
      "outputs": [
        {
          "output_type": "stream",
          "name": "stdout",
          "text": [
            "Howdy Planet!\n"
          ]
        }
      ],
      "source": [
        "def howdy_planet():\n",
        "    print(\"Howdy Planet!\")\n",
        "howdy_planet()"
      ]
    },
    {
      "cell_type": "code",
      "source": [
        "directions = [\"North\", \"South\", \"East\", \"West\"]\n",
        "for x in directions:\n",
        "  print(x)"
      ],
      "metadata": {
        "colab": {
          "base_uri": "https://localhost:8080/"
        },
        "id": "MROQqRpDz6O3",
        "outputId": "205980fe-6b5f-4780-8a78-30064db6bb8e"
      },
      "execution_count": 4,
      "outputs": [
        {
          "output_type": "stream",
          "name": "stdout",
          "text": [
            "North\n",
            "South\n",
            "East\n",
            "West\n"
          ]
        }
      ]
    }
  ]
}